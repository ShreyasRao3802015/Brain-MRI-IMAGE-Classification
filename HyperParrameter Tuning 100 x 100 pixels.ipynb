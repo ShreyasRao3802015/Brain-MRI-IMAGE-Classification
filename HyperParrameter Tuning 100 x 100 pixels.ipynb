{
 "cells": [
  {
   "cell_type": "code",
   "execution_count": 1,
   "id": "balanced-edgar",
   "metadata": {
    "scrolled": true
   },
   "outputs": [],
   "source": [
    "import numpy as np\n",
    "import matplotlib.pyplot as plt\n",
    "import os\n",
    "import cv2"
   ]
  },
  {
   "cell_type": "markdown",
   "id": "worth-somalia",
   "metadata": {},
   "source": [
    "### Training Data"
   ]
  },
  {
   "cell_type": "code",
   "execution_count": 2,
   "id": "false-agreement",
   "metadata": {},
   "outputs": [],
   "source": [
    "datadir = 'C:/Users/LightSpeed/Light Speed/Deep Learning/Brain Tumor Classification MRI/Training'\n",
    "categories = ['glioma_tumor','meningioma_tumor','no_tumor','pituitary_tumor']\n",
    "train_images = []\n",
    "train_labels = []\n",
    "for category in categories:\n",
    "    path = os.path.join(datadir,category)\n",
    "    for img in os.listdir(path):\n",
    "        img_array = cv2.imread(os.path.join(path,img))\n",
    "        img_array = cv2.resize(img_array,(100,100) )\n",
    "        train_images.append(img_array)\n",
    "        train_labels.append(categories.index(category))"
   ]
  },
  {
   "cell_type": "code",
   "execution_count": 3,
   "id": "grand-requirement",
   "metadata": {},
   "outputs": [
    {
     "data": {
      "text/plain": [
       "(2870, 2870)"
      ]
     },
     "execution_count": 3,
     "metadata": {},
     "output_type": "execute_result"
    }
   ],
   "source": [
    "len(train_images),len(train_labels)"
   ]
  },
  {
   "cell_type": "code",
   "execution_count": 4,
   "id": "manual-painting",
   "metadata": {},
   "outputs": [
    {
     "data": {
      "text/plain": [
       "((100, 100, 3), (2870,))"
      ]
     },
     "execution_count": 4,
     "metadata": {},
     "output_type": "execute_result"
    }
   ],
   "source": [
    "train_images = np.array(train_images)\n",
    "train_labels = np.array(train_labels)\n",
    "train_images.shape[1:], train_labels.shape"
   ]
  },
  {
   "cell_type": "code",
   "execution_count": 5,
   "id": "frank-reunion",
   "metadata": {},
   "outputs": [],
   "source": [
    "train_images = train_images/255.0"
   ]
  },
  {
   "cell_type": "code",
   "execution_count": 6,
   "id": "agreed-equivalent",
   "metadata": {},
   "outputs": [
    {
     "data": {
      "text/plain": [
       "array([0, 0, 0, ..., 3, 3, 3])"
      ]
     },
     "execution_count": 6,
     "metadata": {},
     "output_type": "execute_result"
    }
   ],
   "source": [
    "train_labels"
   ]
  },
  {
   "cell_type": "markdown",
   "id": "binary-inside",
   "metadata": {},
   "source": [
    "### Testing Data"
   ]
  },
  {
   "cell_type": "code",
   "execution_count": 7,
   "id": "colonial-lover",
   "metadata": {},
   "outputs": [],
   "source": [
    "datadir = os.path.normpath('C:/Users/LightSpeed/Light Speed/Deep Learning/Brain Tumor Classification MRI/Testing')\n",
    "categories = ['glioma_tumor','meningioma_tumor','no_tumor','pituitary_tumor']\n",
    "test_images = []\n",
    "test_labels = []\n",
    "for category in categories:\n",
    "    path = os.path.join(datadir,category)\n",
    "    for img in os.listdir(path):\n",
    "        img_array = cv2.imread(os.path.join(path,img))\n",
    "        img_array = cv2.resize(img_array,(100,100) )\n",
    "        test_images.append(img_array)\n",
    "        test_labels.append(categories.index(category))"
   ]
  },
  {
   "cell_type": "code",
   "execution_count": 8,
   "id": "pending-apple",
   "metadata": {},
   "outputs": [
    {
     "data": {
      "text/plain": [
       "(394, 394)"
      ]
     },
     "execution_count": 8,
     "metadata": {},
     "output_type": "execute_result"
    }
   ],
   "source": [
    "len(test_images),len(test_labels)"
   ]
  },
  {
   "cell_type": "code",
   "execution_count": 9,
   "id": "infectious-tomato",
   "metadata": {},
   "outputs": [
    {
     "data": {
      "text/plain": [
       "((100, 100, 3), (394,))"
      ]
     },
     "execution_count": 9,
     "metadata": {},
     "output_type": "execute_result"
    }
   ],
   "source": [
    "test_images = np.array(test_images)\n",
    "test_labels = np.array(test_labels)\n",
    "test_images.shape[1:], test_labels.shape"
   ]
  },
  {
   "cell_type": "code",
   "execution_count": 10,
   "id": "aboriginal-folder",
   "metadata": {},
   "outputs": [],
   "source": [
    "test_images = test_images/255.0"
   ]
  },
  {
   "cell_type": "code",
   "execution_count": 11,
   "id": "charged-vietnam",
   "metadata": {},
   "outputs": [],
   "source": [
    "import tensorflow as tf\n",
    "from tensorflow import keras\n",
    "from tensorflow.python.keras.models import Sequential\n",
    "from tensorflow.python.keras.utils import np_utils\n",
    "from tensorflow.python.keras.layers import Dense,Dropout,Activation,Flatten,BatchNormalization\n",
    "from tensorflow.python.keras.layers import Conv2D,MaxPooling2D\n",
    "from tensorflow.python.keras import regularizers\n",
    "\n",
    "from kerastuner.tuners import RandomSearch\n",
    "from tensorflow.keras import layers"
   ]
  },
  {
   "cell_type": "code",
   "execution_count": 12,
   "id": "single-stopping",
   "metadata": {},
   "outputs": [],
   "source": [
    "weight_decay = 1e-4\n",
    "model = Sequential()\n",
    "\n",
    "#1st Convolutional Layer\n",
    "model.add(Conv2D(32,(3,3),padding='same',kernel_regularizer=regularizers.l2(weight_decay) ,input_shape=train_images.shape[1:]))\n",
    "model.add(Activation('relu'))\n",
    "model.add(BatchNormalization())\n",
    "model.add(MaxPooling2D(pool_size=(2,2)))\n",
    "model.add(Dropout(0.4))\n",
    "\n",
    "#2nd Convolutional Layer\n",
    "model.add(Conv2D(64,(3,3), kernel_regularizer=regularizers.l2(weight_decay) , padding='same'))\n",
    "model.add(Activation('relu'))\n",
    "model.add(BatchNormalization())\n",
    "model.add(MaxPooling2D(pool_size=(2,2)))\n",
    "model.add(Dropout(0.3))\n",
    "\n",
    "#3rd Convolutional Layer\n",
    "model.add(Conv2D(128,(3,3), kernel_regularizer=regularizers.l2(weight_decay) , padding='same'))\n",
    "model.add(Activation('relu'))\n",
    "model.add(BatchNormalization())\n",
    "model.add(MaxPooling2D(pool_size=(2,2)))\n",
    "model.add(Dropout(0.4))\n",
    "\n",
    "#4th Convolutional Layer\n",
    "model.add(Conv2D(256,(3,3), kernel_regularizer=regularizers.l2(weight_decay) , padding='same'))\n",
    "model.add(Activation('relu'))\n",
    "model.add(BatchNormalization())\n",
    "model.add(MaxPooling2D(pool_size=(2,2)))\n",
    "model.add(Dropout(0.3))\n",
    "\n",
    "#5th Convolutional Layer\n",
    "model.add(Conv2D(512,(3,3), kernel_regularizer=regularizers.l2(weight_decay) , padding='same'))\n",
    "model.add(Activation('relu'))\n",
    "model.add(BatchNormalization())\n",
    "model.add(MaxPooling2D(pool_size=(2,2)))\n",
    "model.add(Dropout(0.4))\n",
    "\n",
    "#6th Convolutional Layer\n",
    "model.add(Conv2D(1024,(3,3), kernel_regularizer=regularizers.l2(weight_decay) , padding='same'))\n",
    "model.add(Activation('relu'))\n",
    "model.add(BatchNormalization())\n",
    "model.add(MaxPooling2D(pool_size=(2,2)))\n",
    "model.add(Dropout(0.3))\n",
    "\n",
    "#Fully connected layer\n",
    "model.add(Flatten())\n",
    "model.add(Dense(32,activation='relu'))\n",
    "model.add(Dropout(0.4))\n",
    "model.add(Dense(4,activation='softmax'))"
   ]
  },
  {
   "cell_type": "code",
   "execution_count": 13,
   "id": "helpful-respect",
   "metadata": {},
   "outputs": [],
   "source": [
    "sgd = keras.optimizers.SGD(0.1)\n",
    "\n",
    "model.compile(optimizer=sgd,\n",
    "             loss = 'sparse_categorical_crossentropy',\n",
    "             metrics=['accuracy'])"
   ]
  },
  {
   "cell_type": "code",
   "execution_count": 14,
   "id": "independent-valuation",
   "metadata": {},
   "outputs": [],
   "source": [
    "gpu_options = tf.compat.v1.GPUOptions(allow_growth=True)\n",
    "session = tf.compat.v1.InteractiveSession(config=tf.compat.v1.ConfigProto(gpu_options=gpu_options))"
   ]
  },
  {
   "cell_type": "code",
   "execution_count": 15,
   "id": "boolean-above",
   "metadata": {
    "scrolled": false
   },
   "outputs": [
    {
     "name": "stdout",
     "output_type": "stream",
     "text": [
      "Epoch 1/100\n",
      "90/90 [==============================] - 10s 107ms/step - loss: 1.7170 - accuracy: 0.4275 - val_loss: 1.5127 - val_accuracy: 0.3452\n",
      "Epoch 2/100\n",
      "90/90 [==============================] - 5s 55ms/step - loss: 1.3084 - accuracy: 0.4700 - val_loss: 2.9380 - val_accuracy: 0.2766\n",
      "Epoch 3/100\n",
      "90/90 [==============================] - 5s 55ms/step - loss: 1.3111 - accuracy: 0.4610 - val_loss: 3.9125 - val_accuracy: 0.2690\n",
      "Epoch 4/100\n",
      "90/90 [==============================] - 5s 58ms/step - loss: 1.2611 - accuracy: 0.5056 - val_loss: 3.1666 - val_accuracy: 0.3046\n",
      "Epoch 5/100\n",
      "90/90 [==============================] - 5s 58ms/step - loss: 1.1966 - accuracy: 0.5328 - val_loss: 2.9480 - val_accuracy: 0.2843\n",
      "Epoch 6/100\n",
      "90/90 [==============================] - 5s 57ms/step - loss: 1.1233 - accuracy: 0.5645 - val_loss: 2.3156 - val_accuracy: 0.3959\n",
      "Epoch 7/100\n",
      "90/90 [==============================] - 5s 56ms/step - loss: 1.1188 - accuracy: 0.5815 - val_loss: 2.6919 - val_accuracy: 0.2690\n",
      "Epoch 8/100\n",
      "90/90 [==============================] - 5s 56ms/step - loss: 1.1529 - accuracy: 0.5575 - val_loss: 3.3249 - val_accuracy: 0.3147\n",
      "Epoch 9/100\n",
      "90/90 [==============================] - 5s 56ms/step - loss: 1.0530 - accuracy: 0.5920 - val_loss: 3.9774 - val_accuracy: 0.3122\n",
      "Epoch 10/100\n",
      "90/90 [==============================] - 5s 56ms/step - loss: 1.0124 - accuracy: 0.6432 - val_loss: 3.8095 - val_accuracy: 0.3274\n",
      "Epoch 11/100\n",
      "90/90 [==============================] - 5s 56ms/step - loss: 1.0538 - accuracy: 0.6237 - val_loss: 3.1007 - val_accuracy: 0.3706\n",
      "Epoch 12/100\n",
      "90/90 [==============================] - 5s 56ms/step - loss: 1.0150 - accuracy: 0.6481 - val_loss: 3.8290 - val_accuracy: 0.3731\n",
      "Epoch 13/100\n",
      "90/90 [==============================] - 5s 56ms/step - loss: 0.9280 - accuracy: 0.6909 - val_loss: 4.0078 - val_accuracy: 0.3629\n",
      "Epoch 14/100\n",
      "90/90 [==============================] - 5s 56ms/step - loss: 0.9282 - accuracy: 0.6592 - val_loss: 3.1130 - val_accuracy: 0.4086\n",
      "Epoch 15/100\n",
      "90/90 [==============================] - 5s 56ms/step - loss: 0.9020 - accuracy: 0.7014 - val_loss: 2.5472 - val_accuracy: 0.4365\n",
      "Epoch 16/100\n",
      "90/90 [==============================] - 5s 56ms/step - loss: 0.8470 - accuracy: 0.7206 - val_loss: 2.7554 - val_accuracy: 0.4670\n",
      "Epoch 17/100\n",
      "90/90 [==============================] - 5s 56ms/step - loss: 0.8629 - accuracy: 0.7268 - val_loss: 2.7836 - val_accuracy: 0.4289\n",
      "Epoch 18/100\n",
      "90/90 [==============================] - 5s 56ms/step - loss: 0.8532 - accuracy: 0.7359 - val_loss: 2.8785 - val_accuracy: 0.4061\n",
      "Epoch 19/100\n",
      "90/90 [==============================] - 5s 56ms/step - loss: 0.8189 - accuracy: 0.7296 - val_loss: 2.5966 - val_accuracy: 0.4518\n",
      "Epoch 20/100\n",
      "90/90 [==============================] - 5s 56ms/step - loss: 0.8066 - accuracy: 0.7561 - val_loss: 6.4663 - val_accuracy: 0.4137\n",
      "Epoch 21/100\n",
      "90/90 [==============================] - 5s 56ms/step - loss: 0.7499 - accuracy: 0.7780 - val_loss: 4.5943 - val_accuracy: 0.4061\n",
      "Epoch 22/100\n",
      "90/90 [==============================] - 5s 55ms/step - loss: 0.7393 - accuracy: 0.7840 - val_loss: 3.6275 - val_accuracy: 0.4670\n",
      "Epoch 23/100\n",
      "90/90 [==============================] - 5s 60ms/step - loss: 0.7400 - accuracy: 0.7902 - val_loss: 3.0958 - val_accuracy: 0.4416\n",
      "Epoch 24/100\n",
      "90/90 [==============================] - 5s 59ms/step - loss: 0.7612 - accuracy: 0.7836 - val_loss: 3.1607 - val_accuracy: 0.5584\n",
      "Epoch 25/100\n",
      "90/90 [==============================] - 5s 57ms/step - loss: 0.7062 - accuracy: 0.8038 - val_loss: 7.1034 - val_accuracy: 0.4848\n",
      "Epoch 26/100\n",
      "90/90 [==============================] - 5s 57ms/step - loss: 0.7941 - accuracy: 0.7798 - val_loss: 2.7808 - val_accuracy: 0.4949\n",
      "Epoch 27/100\n",
      "90/90 [==============================] - 5s 57ms/step - loss: 0.7220 - accuracy: 0.8073 - val_loss: 2.2694 - val_accuracy: 0.5812\n",
      "Epoch 28/100\n",
      "90/90 [==============================] - 5s 61ms/step - loss: 0.6780 - accuracy: 0.8223 - val_loss: 3.1265 - val_accuracy: 0.5457\n",
      "Epoch 29/100\n",
      "90/90 [==============================] - 5s 59ms/step - loss: 0.6929 - accuracy: 0.8199 - val_loss: 3.5438 - val_accuracy: 0.4949\n",
      "Epoch 30/100\n",
      "90/90 [==============================] - 5s 58ms/step - loss: 0.6957 - accuracy: 0.8192 - val_loss: 3.4955 - val_accuracy: 0.5457\n",
      "Epoch 31/100\n",
      "90/90 [==============================] - 5s 57ms/step - loss: 0.6611 - accuracy: 0.8331 - val_loss: 2.2554 - val_accuracy: 0.5381\n",
      "Epoch 32/100\n",
      "90/90 [==============================] - 5s 57ms/step - loss: 0.6176 - accuracy: 0.8502 - val_loss: 3.5712 - val_accuracy: 0.5508\n",
      "Epoch 33/100\n",
      "90/90 [==============================] - 5s 57ms/step - loss: 0.6148 - accuracy: 0.8516 - val_loss: 2.9774 - val_accuracy: 0.6269\n",
      "Epoch 34/100\n",
      "90/90 [==============================] - 5s 57ms/step - loss: 0.6245 - accuracy: 0.8561 - val_loss: 3.2814 - val_accuracy: 0.5584\n",
      "Epoch 35/100\n",
      "90/90 [==============================] - 5s 58ms/step - loss: 0.6010 - accuracy: 0.8516 - val_loss: 2.8656 - val_accuracy: 0.6066\n",
      "Epoch 36/100\n",
      "90/90 [==============================] - 5s 58ms/step - loss: 0.5584 - accuracy: 0.8760 - val_loss: 2.4243 - val_accuracy: 0.6091\n",
      "Epoch 37/100\n",
      "90/90 [==============================] - 5s 58ms/step - loss: 0.5615 - accuracy: 0.8871 - val_loss: 2.1525 - val_accuracy: 0.6777\n",
      "Epoch 38/100\n",
      "90/90 [==============================] - 6s 61ms/step - loss: 0.5050 - accuracy: 0.8972 - val_loss: 2.9111 - val_accuracy: 0.6396\n",
      "Epoch 39/100\n",
      "90/90 [==============================] - 5s 58ms/step - loss: 0.5716 - accuracy: 0.8787 - val_loss: 2.7705 - val_accuracy: 0.6193\n",
      "Epoch 40/100\n",
      "90/90 [==============================] - 5s 57ms/step - loss: 0.5541 - accuracy: 0.8833 - val_loss: 3.2013 - val_accuracy: 0.6345\n",
      "Epoch 41/100\n",
      "90/90 [==============================] - 5s 59ms/step - loss: 0.5201 - accuracy: 0.9031 - val_loss: 2.0697 - val_accuracy: 0.6497\n",
      "Epoch 42/100\n",
      "90/90 [==============================] - 5s 58ms/step - loss: 0.5191 - accuracy: 0.8969 - val_loss: 2.2195 - val_accuracy: 0.6472\n",
      "Epoch 43/100\n",
      "90/90 [==============================] - 5s 57ms/step - loss: 0.5395 - accuracy: 0.8979 - val_loss: 2.7354 - val_accuracy: 0.6497\n",
      "Epoch 44/100\n",
      "90/90 [==============================] - 5s 58ms/step - loss: 0.5134 - accuracy: 0.9080 - val_loss: 2.7003 - val_accuracy: 0.6802\n",
      "Epoch 45/100\n",
      "90/90 [==============================] - 5s 58ms/step - loss: 0.4907 - accuracy: 0.9091 - val_loss: 2.2366 - val_accuracy: 0.6827\n",
      "Epoch 46/100\n",
      "90/90 [==============================] - 5s 58ms/step - loss: 0.4879 - accuracy: 0.9206 - val_loss: 2.9449 - val_accuracy: 0.6904\n",
      "Epoch 47/100\n",
      "90/90 [==============================] - 5s 57ms/step - loss: 0.4674 - accuracy: 0.9209 - val_loss: 2.7216 - val_accuracy: 0.6980\n",
      "Epoch 48/100\n",
      "90/90 [==============================] - 5s 58ms/step - loss: 0.4645 - accuracy: 0.9220 - val_loss: 2.7067 - val_accuracy: 0.7157\n",
      "Epoch 49/100\n",
      "90/90 [==============================] - 5s 58ms/step - loss: 0.4723 - accuracy: 0.9240 - val_loss: 2.4625 - val_accuracy: 0.7183\n",
      "Epoch 50/100\n",
      "90/90 [==============================] - 5s 58ms/step - loss: 0.4645 - accuracy: 0.9240 - val_loss: 2.4649 - val_accuracy: 0.7005\n",
      "Epoch 51/100\n",
      "90/90 [==============================] - 5s 58ms/step - loss: 0.4581 - accuracy: 0.9261 - val_loss: 1.9650 - val_accuracy: 0.6980\n",
      "Epoch 52/100\n",
      "90/90 [==============================] - 5s 57ms/step - loss: 0.4392 - accuracy: 0.9355 - val_loss: 2.5811 - val_accuracy: 0.6827\n",
      "Epoch 53/100\n",
      "90/90 [==============================] - 5s 56ms/step - loss: 0.4239 - accuracy: 0.9425 - val_loss: 2.2858 - val_accuracy: 0.7284\n",
      "Epoch 54/100\n",
      "90/90 [==============================] - 5s 57ms/step - loss: 0.4342 - accuracy: 0.9394 - val_loss: 2.3001 - val_accuracy: 0.7107\n",
      "Epoch 55/100\n",
      "90/90 [==============================] - 5s 57ms/step - loss: 0.4614 - accuracy: 0.9331 - val_loss: 2.3709 - val_accuracy: 0.7056\n",
      "Epoch 56/100\n",
      "90/90 [==============================] - 5s 57ms/step - loss: 0.4510 - accuracy: 0.9345 - val_loss: 2.7479 - val_accuracy: 0.7081\n",
      "Epoch 57/100\n",
      "90/90 [==============================] - 5s 57ms/step - loss: 0.3952 - accuracy: 0.9467 - val_loss: 2.8383 - val_accuracy: 0.7030\n",
      "Epoch 58/100\n"
     ]
    },
    {
     "name": "stdout",
     "output_type": "stream",
     "text": [
      "90/90 [==============================] - 5s 57ms/step - loss: 0.4151 - accuracy: 0.9446 - val_loss: 1.6481 - val_accuracy: 0.7081\n",
      "Epoch 59/100\n",
      "90/90 [==============================] - 5s 57ms/step - loss: 0.4161 - accuracy: 0.9418 - val_loss: 2.5884 - val_accuracy: 0.7157\n",
      "Epoch 60/100\n",
      "90/90 [==============================] - 5s 57ms/step - loss: 0.4442 - accuracy: 0.9380 - val_loss: 2.0080 - val_accuracy: 0.7259\n",
      "Epoch 61/100\n",
      "90/90 [==============================] - 5s 56ms/step - loss: 0.4193 - accuracy: 0.9456 - val_loss: 2.1105 - val_accuracy: 0.7487\n",
      "Epoch 62/100\n",
      "90/90 [==============================] - 5s 57ms/step - loss: 0.4257 - accuracy: 0.9463 - val_loss: 1.8634 - val_accuracy: 0.7183\n",
      "Epoch 63/100\n",
      "90/90 [==============================] - 5s 59ms/step - loss: 0.4116 - accuracy: 0.9443 - val_loss: 1.8227 - val_accuracy: 0.7234\n",
      "Epoch 64/100\n",
      "90/90 [==============================] - 5s 57ms/step - loss: 0.4008 - accuracy: 0.9516 - val_loss: 3.1485 - val_accuracy: 0.6954\n",
      "Epoch 65/100\n",
      "90/90 [==============================] - 5s 57ms/step - loss: 0.4131 - accuracy: 0.9512 - val_loss: 1.7079 - val_accuracy: 0.7005\n",
      "Epoch 66/100\n",
      "90/90 [==============================] - 5s 57ms/step - loss: 0.3945 - accuracy: 0.9564 - val_loss: 3.0863 - val_accuracy: 0.7005\n",
      "Epoch 67/100\n",
      "90/90 [==============================] - 5s 57ms/step - loss: 0.3718 - accuracy: 0.9659 - val_loss: 2.0230 - val_accuracy: 0.7259\n",
      "Epoch 68/100\n",
      "90/90 [==============================] - 5s 57ms/step - loss: 0.4107 - accuracy: 0.9526 - val_loss: 1.7997 - val_accuracy: 0.7284\n",
      "Epoch 69/100\n",
      "90/90 [==============================] - 5s 57ms/step - loss: 0.3990 - accuracy: 0.9516 - val_loss: 2.7831 - val_accuracy: 0.7259\n",
      "Epoch 70/100\n",
      "90/90 [==============================] - 5s 58ms/step - loss: 0.3837 - accuracy: 0.9631 - val_loss: 2.5688 - val_accuracy: 0.7284\n",
      "Epoch 71/100\n",
      "90/90 [==============================] - 5s 57ms/step - loss: 0.3874 - accuracy: 0.9582 - val_loss: 3.4285 - val_accuracy: 0.7030\n",
      "Epoch 72/100\n",
      "90/90 [==============================] - 5s 57ms/step - loss: 0.3715 - accuracy: 0.9617 - val_loss: 3.6681 - val_accuracy: 0.6904\n",
      "Epoch 73/100\n",
      "90/90 [==============================] - 5s 57ms/step - loss: 0.3963 - accuracy: 0.9606 - val_loss: 3.1745 - val_accuracy: 0.7107\n",
      "Epoch 74/100\n",
      "90/90 [==============================] - 5s 57ms/step - loss: 0.4005 - accuracy: 0.9582 - val_loss: 2.5377 - val_accuracy: 0.7259\n",
      "Epoch 75/100\n",
      "90/90 [==============================] - 5s 57ms/step - loss: 0.3736 - accuracy: 0.9666 - val_loss: 3.2075 - val_accuracy: 0.7157\n",
      "Epoch 76/100\n",
      "90/90 [==============================] - 5s 57ms/step - loss: 0.3636 - accuracy: 0.9735 - val_loss: 2.4398 - val_accuracy: 0.7284\n",
      "Epoch 77/100\n",
      "90/90 [==============================] - 5s 57ms/step - loss: 0.3694 - accuracy: 0.9669 - val_loss: 2.8390 - val_accuracy: 0.7284\n",
      "Epoch 78/100\n",
      "90/90 [==============================] - 5s 57ms/step - loss: 0.3784 - accuracy: 0.9610 - val_loss: 3.0144 - val_accuracy: 0.7462\n",
      "Epoch 79/100\n",
      "90/90 [==============================] - 5s 58ms/step - loss: 0.3421 - accuracy: 0.9700 - val_loss: 2.7628 - val_accuracy: 0.7335\n",
      "Epoch 80/100\n",
      "90/90 [==============================] - 5s 58ms/step - loss: 0.3772 - accuracy: 0.9631 - val_loss: 3.2282 - val_accuracy: 0.7310\n",
      "Epoch 81/100\n",
      "90/90 [==============================] - 5s 58ms/step - loss: 0.3533 - accuracy: 0.9714 - val_loss: 2.7177 - val_accuracy: 0.7310\n",
      "Epoch 82/100\n",
      "90/90 [==============================] - 5s 58ms/step - loss: 0.3658 - accuracy: 0.9669 - val_loss: 2.0172 - val_accuracy: 0.7538\n",
      "Epoch 83/100\n",
      "90/90 [==============================] - 5s 58ms/step - loss: 0.3499 - accuracy: 0.9704 - val_loss: 1.8090 - val_accuracy: 0.7386\n",
      "Epoch 84/100\n",
      "90/90 [==============================] - 5s 57ms/step - loss: 0.3798 - accuracy: 0.9655 - val_loss: 1.9564 - val_accuracy: 0.7462\n",
      "Epoch 85/100\n",
      "90/90 [==============================] - 5s 57ms/step - loss: 0.3477 - accuracy: 0.9707 - val_loss: 3.3324 - val_accuracy: 0.7310\n",
      "Epoch 86/100\n",
      "90/90 [==============================] - 5s 58ms/step - loss: 0.4041 - accuracy: 0.9624 - val_loss: 2.5954 - val_accuracy: 0.7437\n",
      "Epoch 87/100\n",
      "90/90 [==============================] - 5s 59ms/step - loss: 0.3582 - accuracy: 0.9693 - val_loss: 2.5997 - val_accuracy: 0.7538\n",
      "Epoch 88/100\n",
      "90/90 [==============================] - 5s 59ms/step - loss: 0.3659 - accuracy: 0.9711 - val_loss: 2.5940 - val_accuracy: 0.7360\n",
      "Epoch 89/100\n",
      "90/90 [==============================] - 5s 58ms/step - loss: 0.3553 - accuracy: 0.9746 - val_loss: 3.2985 - val_accuracy: 0.7411\n",
      "Epoch 90/100\n",
      "90/90 [==============================] - 5s 58ms/step - loss: 0.3581 - accuracy: 0.9732 - val_loss: 3.5600 - val_accuracy: 0.7310\n",
      "Epoch 91/100\n",
      "90/90 [==============================] - 5s 57ms/step - loss: 0.3391 - accuracy: 0.9753 - val_loss: 2.7078 - val_accuracy: 0.7310\n",
      "Epoch 92/100\n",
      "90/90 [==============================] - 5s 57ms/step - loss: 0.3816 - accuracy: 0.9728 - val_loss: 2.2466 - val_accuracy: 0.7487\n",
      "Epoch 93/100\n",
      "90/90 [==============================] - 5s 58ms/step - loss: 0.3444 - accuracy: 0.9770 - val_loss: 2.8525 - val_accuracy: 0.7411\n",
      "Epoch 94/100\n",
      "90/90 [==============================] - 5s 59ms/step - loss: 0.3517 - accuracy: 0.9756 - val_loss: 3.4499 - val_accuracy: 0.7259\n",
      "Epoch 95/100\n",
      "90/90 [==============================] - 5s 58ms/step - loss: 0.3437 - accuracy: 0.9780 - val_loss: 2.7827 - val_accuracy: 0.7538\n",
      "Epoch 96/100\n",
      "90/90 [==============================] - 5s 57ms/step - loss: 0.3406 - accuracy: 0.9794 - val_loss: 2.6208 - val_accuracy: 0.7437\n",
      "Epoch 97/100\n",
      "90/90 [==============================] - 5s 58ms/step - loss: 0.3542 - accuracy: 0.9749 - val_loss: 4.1794 - val_accuracy: 0.7335\n",
      "Epoch 98/100\n",
      "90/90 [==============================] - 5s 58ms/step - loss: 0.3524 - accuracy: 0.9714 - val_loss: 3.0224 - val_accuracy: 0.7386\n",
      "Epoch 99/100\n",
      "90/90 [==============================] - 5s 57ms/step - loss: 0.3333 - accuracy: 0.9798 - val_loss: 2.9301 - val_accuracy: 0.7386\n",
      "Epoch 100/100\n",
      "90/90 [==============================] - 5s 57ms/step - loss: 0.3360 - accuracy: 0.9805 - val_loss: 2.3829 - val_accuracy: 0.7310\n"
     ]
    },
    {
     "data": {
      "text/plain": [
       "<tensorflow.python.keras.callbacks.History at 0x192ecc70668>"
      ]
     },
     "execution_count": 15,
     "metadata": {},
     "output_type": "execute_result"
    }
   ],
   "source": [
    "model.fit(train_images,train_labels,\n",
    "         epochs=100,\n",
    "         validation_data=(test_images,test_labels))"
   ]
  },
  {
   "cell_type": "code",
   "execution_count": 16,
   "id": "fourth-sister",
   "metadata": {},
   "outputs": [
    {
     "name": "stdout",
     "output_type": "stream",
     "text": [
      "13/13 [==============================] - 0s 16ms/step - loss: 2.3829 - accuracy: 0.7310\n"
     ]
    },
    {
     "data": {
      "text/plain": [
       "[2.382873773574829, 0.7309644818305969]"
      ]
     },
     "execution_count": 16,
     "metadata": {},
     "output_type": "execute_result"
    }
   ],
   "source": [
    "model.evaluate(test_images,test_labels)"
   ]
  },
  {
   "cell_type": "code",
   "execution_count": 20,
   "id": "colored-bahamas",
   "metadata": {},
   "outputs": [],
   "source": [
    "yprob_train = model.predict(train_images)\n",
    "ypred_train = [np.argmax(i) for i in yprob_train]\n",
    "\n",
    "yprob_test = model.predict(test_images)\n",
    "ypred_test = [np.argmax(i) for i in yprob_test]"
   ]
  },
  {
   "cell_type": "code",
   "execution_count": 22,
   "id": "finished-envelope",
   "metadata": {},
   "outputs": [
    {
     "name": "stdout",
     "output_type": "stream",
     "text": [
      "[[801  12   9   4]\n",
      " [  3 818   1   0]\n",
      " [  0   0 395   0]\n",
      " [  0   1   0 826]]\n",
      "*************************************************\n",
      "[[ 18  55  24   3]\n",
      " [  0 114   1   0]\n",
      " [  0   0 105   0]\n",
      " [  3  12   8  51]]\n"
     ]
    }
   ],
   "source": [
    "from sklearn.metrics import confusion_matrix\n",
    "\n",
    "conf_mx_train = confusion_matrix(train_labels, ypred_train)\n",
    "print(conf_mx_train)\n",
    "print('*************************************************')\n",
    "conf_mx_test = confusion_matrix(test_labels, ypred_test)\n",
    "print(conf_mx_test)"
   ]
  },
  {
   "cell_type": "code",
   "execution_count": null,
   "id": "stainless-white",
   "metadata": {},
   "outputs": [],
   "source": []
  },
  {
   "cell_type": "code",
   "execution_count": null,
   "id": "acting-concrete",
   "metadata": {},
   "outputs": [],
   "source": []
  },
  {
   "cell_type": "code",
   "execution_count": null,
   "id": "veterinary-festival",
   "metadata": {},
   "outputs": [],
   "source": []
  },
  {
   "cell_type": "code",
   "execution_count": null,
   "id": "necessary-contribution",
   "metadata": {},
   "outputs": [],
   "source": []
  },
  {
   "cell_type": "code",
   "execution_count": null,
   "id": "premier-float",
   "metadata": {},
   "outputs": [],
   "source": []
  },
  {
   "cell_type": "code",
   "execution_count": null,
   "id": "illegal-citizenship",
   "metadata": {},
   "outputs": [],
   "source": []
  },
  {
   "cell_type": "code",
   "execution_count": null,
   "id": "random-criterion",
   "metadata": {},
   "outputs": [],
   "source": []
  },
  {
   "cell_type": "code",
   "execution_count": null,
   "id": "french-minneapolis",
   "metadata": {},
   "outputs": [],
   "source": []
  },
  {
   "cell_type": "code",
   "execution_count": null,
   "id": "missing-inspector",
   "metadata": {},
   "outputs": [],
   "source": []
  },
  {
   "cell_type": "code",
   "execution_count": null,
   "id": "sexual-content",
   "metadata": {},
   "outputs": [],
   "source": []
  },
  {
   "cell_type": "code",
   "execution_count": null,
   "id": "incorporated-archive",
   "metadata": {},
   "outputs": [],
   "source": []
  }
 ],
 "metadata": {
  "kernelspec": {
   "display_name": "Python 3",
   "language": "python",
   "name": "python3"
  },
  "language_info": {
   "codemirror_mode": {
    "name": "ipython",
    "version": 3
   },
   "file_extension": ".py",
   "mimetype": "text/x-python",
   "name": "python",
   "nbconvert_exporter": "python",
   "pygments_lexer": "ipython3",
   "version": "3.6.12"
  }
 },
 "nbformat": 4,
 "nbformat_minor": 5
}
